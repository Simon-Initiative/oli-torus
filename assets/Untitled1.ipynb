{
 "cells": [
  {
   "cell_type": "code",
   "execution_count": 1,
   "id": "3fbf68a8",
   "metadata": {},
   "outputs": [],
   "source": [
    "import numpy as np\n",
    "\n"
   ]
  },
  {
   "cell_type": "code",
   "execution_count": 40,
   "id": "db3a5ede",
   "metadata": {},
   "outputs": [
    {
     "name": "stdout",
     "output_type": "stream",
     "text": [
      "x=[-0.15942802 -0.15942802]\n",
      "f(x):-0.40667231727837766\n"
     ]
    },
    {
     "data": {
      "text/plain": [
       "array([-0.15942802, -0.15942802])"
      ]
     },
     "execution_count": 40,
     "metadata": {},
     "output_type": "execute_result"
    }
   ],
   "source": [
    "def gd(x_initial, step_size, max_iterations):\n",
    "    if max_iterations == 0:\n",
    "        print(f\"x={x_initial}\")\n",
    "        print(f\"f(x):{eval_f(x_initial)}\")\n",
    "        return x_initial\n",
    "    else:\n",
    "        x_new = x_initial - (step_size * eval_df(x_initial))\n",
    "        return gd(x_new, step_size, max_iterations - 1)\n",
    "        \n",
    "def f(x):\n",
    "    return 4 * (x ** 3) + 16 * (x ** 2) + (5 * x)\n",
    "\n",
    "def df(x):\n",
    "    return 2 * (x ** 2) + 16 * x + 2.5\n",
    "        \n",
    "def eval_f(x):\n",
    "    vectorized = np.vectorize(lambda x: 4 * (x ** 3) + 16 * (x ** 2) + (5 * x))\n",
    "    return np.sum(vectorized(x)) / 2\n",
    "\n",
    "def eval_df(x):\n",
    "    vectorized = np.vectorize(df)\n",
    "    return vectorized(x)\n",
    "\n",
    "gd(np.array([-5, -5]), 0.01, 100)\n"
   ]
  },
  {
   "cell_type": "code",
   "execution_count": 41,
   "id": "d4caa696",
   "metadata": {},
   "outputs": [
    {
     "name": "stdout",
     "output_type": "stream",
     "text": [
      "Solution: [ 0.   0.  -1.6  2.4]\n"
     ]
    }
   ],
   "source": [
    "import numpy as np\n",
    "\n",
    "# Example coefficients of the equations\n",
    "A = np.array([\n",
    "    [2, 0, -1, 1],\n",
    "    [0, 4, -4, -1],\n",
    "    [-1, -4, 0, 0],\n",
    "    [1, -1, 0, 0]\n",
    "])\n",
    "\n",
    "# Example constants on the right-hand side of the equations\n",
    "B = np.array([4, 4, 0, 0])\n",
    "\n",
    "# Solving the system of equations\n",
    "solution = np.linalg.solve(A, B)\n",
    "\n",
    "print(\"Solution:\", solution)\n"
   ]
  },
  {
   "cell_type": "code",
   "execution_count": null,
   "id": "646f2c5d",
   "metadata": {},
   "outputs": [],
   "source": []
  },
  {
   "cell_type": "code",
   "execution_count": null,
   "id": "8e3d6015",
   "metadata": {},
   "outputs": [],
   "source": []
  }
 ],
 "metadata": {
  "kernelspec": {
   "display_name": "Python 3 (ipykernel)",
   "language": "python",
   "name": "python3"
  },
  "language_info": {
   "codemirror_mode": {
    "name": "ipython",
    "version": 3
   },
   "file_extension": ".py",
   "mimetype": "text/x-python",
   "name": "python",
   "nbconvert_exporter": "python",
   "pygments_lexer": "ipython3",
   "version": "3.11.4"
  }
 },
 "nbformat": 4,
 "nbformat_minor": 5
}
